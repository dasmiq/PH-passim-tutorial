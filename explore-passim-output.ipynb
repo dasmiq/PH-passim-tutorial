{
 "cells": [
  {
   "cell_type": "markdown",
   "metadata": {},
   "source": [
    "**Summary**\n",
    "\n",
    "In this notebook we explain how to load `passim`'s output into a `pandas`' `DataFrame`, a data structure that comes in very handy when analyzing and/or plotting data.\n",
    "\n",
    "Please note that if the **size of your data** changes considerably (i.e. the number of detected text reuse clusters shifts from thousands to millions) the use of [`dask` DataFrames](https://docs.dask.org/en/latest/dataframe.html) is recommended, as computation and memory usage can be distributed over a cluster made of several machines. \n",
    "\n",
    "## Imports"
   ]
  },
  {
   "cell_type": "code",
   "execution_count": 152,
   "metadata": {},
   "outputs": [],
   "source": [
    "import os\n",
    "import pandas as pd"
   ]
  },
  {
   "cell_type": "code",
   "execution_count": 154,
   "metadata": {},
   "outputs": [
    {
     "data": {
      "text/plain": [
       "'1.1.1'"
      ]
     },
     "execution_count": 154,
     "metadata": {},
     "output_type": "execute_result"
    }
   ],
   "source": [
    "# this prints the current pandas' version\n",
    "pd.__version__"
   ]
  },
  {
   "cell_type": "markdown",
   "metadata": {},
   "source": [
    "## Configuration\n",
    "\n",
    "**NB**: In case you speficied a different output folder when running `passim`, you'll need to change the variables here below."
   ]
  },
  {
   "cell_type": "code",
   "execution_count": 4,
   "metadata": {},
   "outputs": [],
   "source": [
    "impresso_passim_output_path = os.path.join('.', 'impresso/passim-output/out.json/')"
   ]
  },
  {
   "cell_type": "code",
   "execution_count": 151,
   "metadata": {},
   "outputs": [],
   "source": [
    "# TODO: add data to GH; for now it will break\n",
    "eebo_passim_output_path = os.path.join('.', 'eebo/passim-output/out.json/')"
   ]
  },
  {
   "cell_type": "markdown",
   "metadata": {},
   "source": [
    "## Utility functions\n",
    "\n",
    "Some very general functions that should be usable with any `passim` JSON output."
   ]
  },
  {
   "cell_type": "code",
   "execution_count": 145,
   "metadata": {
    "code_folding": [
     0,
     31
    ]
   },
   "outputs": [],
   "source": [
    "def read_passim_json(output_dir: str) -> pd.DataFrame:\n",
    "    \"\"\"\n",
    "    A simple function that reads passim's JSON output\n",
    "    into a pandas DataFrame.\n",
    "    \"\"\"\n",
    "\n",
    "    # detect all JSON files filtering on file extension\n",
    "    files = [\n",
    "        os.path.join(output_dir, f)\n",
    "        for f in os.listdir(impresso_passim_output_path)\n",
    "        if f.endswith('.json')\n",
    "    ]\n",
    "    \n",
    "    print(f'{len(files)} files detected in folder {output_dir}')\n",
    "    \n",
    "    # read each JSON file into a temporary pandas dataframe\n",
    "    # thus creating a list of dataframes\n",
    "    dfs = [\n",
    "        pd.read_json(file, lines=True)\n",
    "        for file in files\n",
    "    ]\n",
    "    \n",
    "    # concatenate all temporary dataframes into a single one\n",
    "    # and set the column `uid` as the dataframe index\n",
    "    df = pd.concat(dfs).set_index('uid')\n",
    "    \n",
    "    n_clusters = df.cluster.nunique()\n",
    "    n_passages = df.shape[0]\n",
    "    print(f'Passim data contain {n_passages} text reuse passages, grouped into {n_clusters} clusters')\n",
    "    return df\n",
    "\n",
    "def passages2clusters(passages_df: pd.DataFrame) -> pd.DataFrame:\n",
    "    \"\"\"\n",
    "    Function that aggregates passim's output at the cluster-level.\n",
    "    \"\"\"\n",
    "    impresso_tr_clusters = passages_df.groupby('cluster').agg({'size': 'count'})\n",
    "    impresso_tr_clusters.rename(columns={'size': 'cluster_size'}, inplace=True)\n",
    "    return impresso_tr_clusters\n",
    "    "
   ]
  },
  {
   "cell_type": "markdown",
   "metadata": {},
   "source": [
    "## Read in `passim`'s output for *impresso*\n",
    "\n",
    "First thing first, we need to read in `passim`'s JSON output; each JSON document represents a *text reuse passage* (not a cluster!) and the data is split over several smallish JSON files contained in `passim`'s output directory."
   ]
  },
  {
   "cell_type": "code",
   "execution_count": 60,
   "metadata": {},
   "outputs": [
    {
     "name": "stdout",
     "output_type": "stream",
     "text": [
      "36 files detected in folder ./impresso/passim-output/out.json/\n",
      "Passim data contain 16101 text reuse passages, grouped into 5458 clusters\n"
     ]
    }
   ],
   "source": [
    "impresso_tr_passages = read_passim_json(impresso_passim_output_path)"
   ]
  },
  {
   "cell_type": "code",
   "execution_count": null,
   "metadata": {},
   "outputs": [],
   "source": [
    "eebo_tr_passages = read_passim_json(eebo_passim_output_path)"
   ]
  },
  {
   "cell_type": "markdown",
   "metadata": {},
   "source": [
    "## Reshaping data: from passages to clusters\n",
    "\n",
    "Since `passim`'s JSON represents text reuse passages, in order to do some analysis on text reuse clusters we need to **reshape** our data. This is done by calling the `passages2clusters` function which will transform a DataFrame of passages into a DataFrame of clusters. \n",
    "\n",
    "Here, for the sake of semplicity, each cluster has two bits of information (columns): \n",
    "1. a cluster ID (the one assigned by `passim`)\n",
    "2. its size, namely the number of similar/repeated passages that a cluster contains. "
   ]
  },
  {
   "cell_type": "code",
   "execution_count": 125,
   "metadata": {},
   "outputs": [],
   "source": [
    "impresso_tr_clusters = passages2clusters(impresso_tr_passages)"
   ]
  },
  {
   "cell_type": "code",
   "execution_count": 146,
   "metadata": {},
   "outputs": [
    {
     "data": {
      "text/plain": [
       "5458"
      ]
     },
     "execution_count": 146,
     "metadata": {},
     "output_type": "execute_result"
    }
   ],
   "source": [
    "impresso_tr_clusters.shape[0]"
   ]
  },
  {
   "cell_type": "markdown",
   "metadata": {},
   "source": [
    "## Plotting the distribution of cluster sizes"
   ]
  },
  {
   "cell_type": "code",
   "execution_count": 150,
   "metadata": {},
   "outputs": [
    {
     "data": {
      "text/plain": [
       "2      4545\n",
       "3       299\n",
       "4       180\n",
       "5        84\n",
       "6        81\n",
       "7        51\n",
       "8        49\n",
       "11       25\n",
       "10       19\n",
       "9        14\n",
       "14       12\n",
       "12       11\n",
       "15       10\n",
       "17        8\n",
       "13        8\n",
       "21        7\n",
       "19        6\n",
       "16        4\n",
       "33        4\n",
       "28        3\n",
       "24        3\n",
       "31        3\n",
       "18        2\n",
       "50        2\n",
       "20        2\n",
       "49        2\n",
       "35        2\n",
       "32        2\n",
       "100       1\n",
       "120       1\n",
       "140       1\n",
       "296       1\n",
       "59        1\n",
       "25        1\n",
       "41        1\n",
       "45        1\n",
       "57        1\n",
       "43        1\n",
       "22        1\n",
       "26        1\n",
       "38        1\n",
       "42        1\n",
       "46        1\n",
       "74        1\n",
       "23        1\n",
       "27        1\n",
       "39        1\n",
       "81        1\n",
       "Name: cluster_size, dtype: int64"
      ]
     },
     "execution_count": 150,
     "metadata": {},
     "output_type": "execute_result"
    }
   ],
   "source": [
    "impresso_tr_clusters.cluster_size.value_counts()"
   ]
  },
  {
   "cell_type": "code",
   "execution_count": 132,
   "metadata": {},
   "outputs": [
    {
     "data": {
      "text/plain": [
       "count    5458.000000\n",
       "mean        2.949982\n",
       "std         6.083882\n",
       "min         2.000000\n",
       "25%         2.000000\n",
       "50%         2.000000\n",
       "75%         2.000000\n",
       "max       296.000000\n",
       "Name: cluster_size, dtype: float64"
      ]
     },
     "execution_count": 132,
     "metadata": {},
     "output_type": "execute_result"
    }
   ],
   "source": [
    "impresso_tr_clusters.cluster_size.describe()"
   ]
  },
  {
   "cell_type": "code",
   "execution_count": 149,
   "metadata": {},
   "outputs": [
    {
     "data": {
      "text/plain": [
       "cluster_size    4.0\n",
       "Name: 0.9, dtype: float64"
      ]
     },
     "execution_count": 149,
     "metadata": {},
     "output_type": "execute_result"
    }
   ],
   "source": [
    "impresso_tr_clusters.quantile(.9)"
   ]
  },
  {
   "cell_type": "code",
   "execution_count": 129,
   "metadata": {},
   "outputs": [
    {
     "data": {
      "image/png": "[encoded data removed]",
      "text/plain": [
       "<Figure size 720x576 with 1 Axes>"
      ]
     },
     "metadata": {
      "needs_background": "light"
     },
     "output_type": "display_data"
    }
   ],
   "source": [
    "%matplotlib inline\n",
    "ax = impresso_tr_clusters.cluster_size.value_counts().plot(\n",
    "    kind='bar',\n",
    "    log=False,\n",
    "    grid=True,\n",
    "    figsize=(10, 8),\n",
    "    xlabel='Cluster size',\n",
    "    ylabel='Frequency',\n",
    "    title='Distribution of text reuse cluster sizes'\n",
    ")"
   ]
  },
  {
   "cell_type": "code",
   "execution_count": 131,
   "metadata": {},
   "outputs": [
    {
     "data": {
      "image/png": "[encoded data removed]",
      "text/plain": [
       "<Figure size 720x576 with 1 Axes>"
      ]
     },
     "metadata": {
      "needs_background": "light"
     },
     "output_type": "display_data"
    }
   ],
   "source": [
    "%matplotlib inline\n",
    "ax = impresso_tr_clusters.cluster_size.value_counts().plot(\n",
    "    kind='bar',\n",
    "    log=True,\n",
    "    grid=True,\n",
    "    figsize=(10, 8),\n",
    "    xlabel='Cluster size',\n",
    "    ylabel='Frequency',\n",
    "    title='Distribution of text reuse cluster sizes (plotted on a logarithmic scale)'\n",
    ")"
   ]
  }
 ],
 "metadata": {
  "kernelspec": {
   "display_name": "Python 3",
   "language": "python",
   "name": "python3"
  },
  "language_info": {
   "codemirror_mode": {
    "name": "ipython",
    "version": 3
   },
   "file_extension": ".py",
   "mimetype": "text/x-python",
   "name": "python",
   "nbconvert_exporter": "python",
   "pygments_lexer": "ipython3",
   "version": "3.6.8"
  },
  "toc": {
   "base_numbering": 1,
   "nav_menu": {},
   "number_sections": true,
   "sideBar": true,
   "skip_h1_title": false,
   "title_cell": "Table of Contents",
   "title_sidebar": "Contents",
   "toc_cell": false,
   "toc_position": {},
   "toc_section_display": true,
   "toc_window_display": true
  }
 },
 "nbformat": 4,
 "nbformat_minor": 4
}
