{
 "cells": [
  {
   "cell_type": "markdown",
   "metadata": {},
   "source": [
    "**Summary**\n",
    "\n",
    "In this notebook we explain how to load `passim`'s output into a `pandas`' `DataFrame`, a data structure that comes in very handy when analyzing and/or plotting data.\n",
    "\n",
    "Please note that if the **size of your data** changes considerably (i.e. the number of detected text reuse clusters shifts from thousands to millions) we recommened the use of [`dask` DataFrames](https://docs.dask.org/en/latest/dataframe.html) as it is able e.g. to distribute computation and memory usage over a cluster made of several machines. \n",
    "\n",
    "## Imports"
   ]
  },
  {
   "cell_type": "code",
   "execution_count": 2,
   "metadata": {},
   "outputs": [
    {
     "name": "stderr",
     "output_type": "stream",
     "text": [
      "/Users/matteo/.pyenv/versions/3.6.8/envs/PH-passim-tutorial/lib/python3.6/site-packages/pandas/compat/__init__.py:120: UserWarning: Could not import the lzma module. Your installed Python is incomplete. Attempting to use lzma compression will result in a RuntimeError.\n",
      "  warnings.warn(msg)\n"
     ]
    }
   ],
   "source": [
    "import os\n",
    "import pandas as pd"
   ]
  },
  {
   "cell_type": "code",
   "execution_count": 3,
   "metadata": {},
   "outputs": [
    {
     "data": {
      "text/plain": [
       "'1.1.1'"
      ]
     },
     "execution_count": 3,
     "metadata": {},
     "output_type": "execute_result"
    }
   ],
   "source": [
    "# this prints the current pandas' version\n",
    "pd.__version__"
   ]
  },
  {
   "cell_type": "markdown",
   "metadata": {},
   "source": [
    "## Configuration\n",
    "\n",
    "**NB**: In case you speficied a different output folder when running `passim`, you'll need to change the variables here below."
   ]
  },
  {
   "cell_type": "code",
   "execution_count": 4,
   "metadata": {},
   "outputs": [],
   "source": [
    "impresso_passim_output_path = os.path.join('.', 'impresso','passim-output','out.json')"
   ]
  },
  {
   "cell_type": "code",
   "execution_count": 20,
   "metadata": {},
   "outputs": [],
   "source": [
    "# TODO: add data to GH; for now it will break\n",
    "eebo_passim_output_path = os.path.join('.', 'eebo','passim_output_bible','out.json')"
   ]
  },
  {
   "cell_type": "markdown",
   "metadata": {},
   "source": [
    "## Utility functions\n",
    "\n",
    "Some very general functions that should be usable with any `passim` JSON output."
   ]
  },
  {
   "cell_type": "code",
   "execution_count": 26,
   "metadata": {
    "code_folding": [
     31
    ]
   },
   "outputs": [],
   "source": [
    "def read_passim_json(output_dir: str) -> pd.DataFrame:\n",
    "    \"\"\"\n",
    "    A simple function that reads passim's JSON output\n",
    "    into a pandas DataFrame.\n",
    "    \"\"\"\n",
    "\n",
    "    # detect all JSON files filtering on file extension\n",
    "    files = [\n",
    "        os.path.join(output_dir, f)\n",
    "        for f in os.listdir(output_dir)\n",
    "        if f.endswith('.json')\n",
    "    ]\n",
    "    \n",
    "    print(f'{len(files)} files detected in folder {output_dir}')\n",
    "    \n",
    "    # read each JSON file into a temporary pandas dataframe\n",
    "    # thus creating a list of dataframes\n",
    "    dfs = [\n",
    "        pd.read_json(file, lines=True)\n",
    "        for file in files\n",
    "    ]\n",
    "    \n",
    "    # concatenate all temporary dataframes into a single one\n",
    "    # and set the column `uid` as the dataframe index\n",
    "    df = pd.concat(dfs).set_index('uid')\n",
    "    \n",
    "    n_clusters = df.cluster.nunique()\n",
    "    n_passages = df.shape[0]\n",
    "    print(f'Passim data contain {n_passages} text reuse passages, grouped into {n_clusters} clusters')\n",
    "    return df\n",
    "\n",
    "def passages2clusters(passages_df: pd.DataFrame) -> pd.DataFrame:\n",
    "    \"\"\"\n",
    "    Function that aggregates passim's output at the cluster-level.\n",
    "    \"\"\"\n",
    "    impresso_tr_clusters = passages_df.groupby('cluster').agg({'size': 'count'})\n",
    "    impresso_tr_clusters.rename(columns={'size': 'cluster_size'}, inplace=True)\n",
    "    return impresso_tr_clusters\n",
    "    "
   ]
  },
  {
   "cell_type": "markdown",
   "metadata": {},
   "source": [
    "## Read in `passim`'s output for *impresso*\n",
    "\n",
    "First thing first, we need to read in `passim`'s JSON output; each JSON document represents a *text reuse passage* (not a cluster!) and the data is split over several smallish JSON files contained in `passim`'s output directory."
   ]
  },
  {
   "cell_type": "code",
   "execution_count": 22,
   "metadata": {},
   "outputs": [
    {
     "name": "stdout",
     "output_type": "stream",
     "text": [
      "36 files detected in folder ./impresso/passim-output/out.json/\n",
      "Passim data contain 16101 text reuse passages, grouped into 5458 clusters\n"
     ]
    }
   ],
   "source": [
    "impresso_tr_passages = read_passim_json(impresso_passim_output_path)"
   ]
  },
  {
   "cell_type": "code",
   "execution_count": 8,
   "metadata": {},
   "outputs": [
    {
     "data": {
      "text/plain": [
       "16101"
      ]
     },
     "execution_count": 8,
     "metadata": {},
     "output_type": "execute_result"
    }
   ],
   "source": [
    "# this gives the number of TR passages detected by passim\n",
    "# on the sample impresso data\n",
    "impresso_tr_passages.shape[0]"
   ]
  },
  {
   "cell_type": "code",
   "execution_count": 30,
   "metadata": {},
   "outputs": [
    {
     "name": "stdout",
     "output_type": "stream",
     "text": [
      "36 files detected in folder ./eebo/passim_output_bible/out.json/\n",
      "Passim data contain 520 text reuse passages, grouped into 257 clusters\n"
     ]
    }
   ],
   "source": [
    "bible_tr_passages = read_passim_json(eebo_passim_output_path)"
   ]
  },
  {
   "cell_type": "code",
   "execution_count": 31,
   "metadata": {},
   "outputs": [
    {
     "data": {
      "text/plain": [
       "520"
      ]
     },
     "execution_count": 31,
     "metadata": {},
     "output_type": "execute_result"
    }
   ],
   "source": [
    "bible_tr_passages.shape[0]"
   ]
  },
  {
   "cell_type": "markdown",
   "metadata": {},
   "source": [
    "## Reshaping data: from passages to clusters\n",
    "\n",
    "Since `passim`'s JSON represents text reuse passages, in order to do some analysis on text reuse clusters we need to **reshape** our data. This is done by calling the `passages2clusters` function which will transform a DataFrame of passages into a DataFrame of clusters. \n",
    "\n",
    "Here, for the sake of semplicity, each cluster has two bits of information (columns): \n",
    "1. a cluster ID (the one assigned by `passim`)\n",
    "2. its size, namely the number of similar/repeated passages that a cluster contains. \n",
    "\n",
    "But for a more in-depth analysis, you may want to characterise each cluster by some more information, e.g. the timespan covered by passages in the cluster (if applicable)."
   ]
  },
  {
   "cell_type": "code",
   "execution_count": 10,
   "metadata": {},
   "outputs": [],
   "source": [
    "impresso_tr_clusters = passages2clusters(impresso_tr_passages)"
   ]
  },
  {
   "cell_type": "code",
   "execution_count": 29,
   "metadata": {},
   "outputs": [],
   "source": [
    "bible_tr_clusters = passages2clusters(eebo_tr_passages)"
   ]
  },
  {
   "cell_type": "code",
   "execution_count": 11,
   "metadata": {},
   "outputs": [
    {
     "data": {
      "text/plain": [
       "5458"
      ]
     },
     "execution_count": 11,
     "metadata": {},
     "output_type": "execute_result"
    }
   ],
   "source": [
    "# the number of records (rows) in this dataframe\n",
    "# correspondes to the number of clusters detected by passim\n",
    "impresso_tr_clusters.shape[0]"
   ]
  },
  {
   "cell_type": "code",
   "execution_count": 32,
   "metadata": {},
   "outputs": [
    {
     "data": {
      "text/plain": [
       "257"
      ]
     },
     "execution_count": 32,
     "metadata": {},
     "output_type": "execute_result"
    }
   ],
   "source": [
    "bible_tr_clusters.shape[0]"
   ]
  },
  {
   "cell_type": "markdown",
   "metadata": {},
   "source": [
    "## Plotting the distribution of cluster sizes (impresso)\n",
    "\n",
    "An interesting thing for the analysis of TR is to get a sense of **how big are the clusters** we are dealing with. Similarly, we'd like to understand whether we have a lot of small or big clusters, and how much variance there is in their sizes.\n",
    "\n",
    "This information is contained in the column `cluster_size` of our cluster `DataFrame`."
   ]
  },
  {
   "cell_type": "markdown",
   "metadata": {},
   "source": [
    "What's the smallest cluster?"
   ]
  },
  {
   "cell_type": "code",
   "execution_count": 15,
   "metadata": {},
   "outputs": [
    {
     "data": {
      "text/plain": [
       "2"
      ]
     },
     "execution_count": 15,
     "metadata": {},
     "output_type": "execute_result"
    }
   ],
   "source": [
    "impresso_tr_clusters.cluster_size.min()"
   ]
  },
  {
   "cell_type": "markdown",
   "metadata": {},
   "source": [
    "And the biggest one?"
   ]
  },
  {
   "cell_type": "code",
   "execution_count": 16,
   "metadata": {},
   "outputs": [
    {
     "data": {
      "text/plain": [
       "296"
      ]
     },
     "execution_count": 16,
     "metadata": {},
     "output_type": "execute_result"
    }
   ],
   "source": [
    "impresso_tr_clusters.cluster_size.max()"
   ]
  },
  {
   "cell_type": "markdown",
   "metadata": {},
   "source": [
    "Now, we can start looking at the frequency distribution of cluster sizes. The `pandas.Series`' method `value_counts()` returns the frequency of each size -- which is exactly what we need here."
   ]
  },
  {
   "cell_type": "code",
   "execution_count": 12,
   "metadata": {},
   "outputs": [
    {
     "data": {
      "text/plain": [
       "2      4545\n",
       "3       299\n",
       "4       180\n",
       "5        84\n",
       "6        81\n",
       "7        51\n",
       "8        49\n",
       "11       25\n",
       "10       19\n",
       "9        14\n",
       "14       12\n",
       "12       11\n",
       "15       10\n",
       "17        8\n",
       "13        8\n",
       "21        7\n",
       "19        6\n",
       "16        4\n",
       "33        4\n",
       "28        3\n",
       "24        3\n",
       "31        3\n",
       "18        2\n",
       "50        2\n",
       "20        2\n",
       "49        2\n",
       "35        2\n",
       "32        2\n",
       "100       1\n",
       "120       1\n",
       "140       1\n",
       "296       1\n",
       "59        1\n",
       "25        1\n",
       "41        1\n",
       "45        1\n",
       "57        1\n",
       "43        1\n",
       "22        1\n",
       "26        1\n",
       "38        1\n",
       "42        1\n",
       "46        1\n",
       "74        1\n",
       "23        1\n",
       "27        1\n",
       "39        1\n",
       "81        1\n",
       "Name: cluster_size, dtype: int64"
      ]
     },
     "execution_count": 12,
     "metadata": {},
     "output_type": "execute_result"
    }
   ],
   "source": [
    "impresso_tr_clusters.cluster_size.value_counts()"
   ]
  },
  {
   "cell_type": "markdown",
   "metadata": {},
   "source": [
    "We can get some more statistical information about the distribution of size by calling the `describe()` method. Tis will return the min/max/mean value, standard deviation, and the three quartiles."
   ]
  },
  {
   "cell_type": "code",
   "execution_count": 25,
   "metadata": {},
   "outputs": [
    {
     "data": {
      "text/plain": [
       "count    5458.000000\n",
       "mean        2.949982\n",
       "std         6.083882\n",
       "min         2.000000\n",
       "25%         2.000000\n",
       "50%         2.000000\n",
       "75%         2.000000\n",
       "max       296.000000\n",
       "Name: cluster_size, dtype: float64"
      ]
     },
     "execution_count": 25,
     "metadata": {},
     "output_type": "execute_result"
    }
   ],
   "source": [
    "impresso_tr_clusters.cluster_size.describe()"
   ]
  },
  {
   "cell_type": "markdown",
   "metadata": {},
   "source": [
    "The majority of our clusters are very small; 90% of them, in fact, contains at maximum 4 passages."
   ]
  },
  {
   "cell_type": "code",
   "execution_count": 26,
   "metadata": {},
   "outputs": [
    {
     "data": {
      "text/plain": [
       "cluster_size    4.0\n",
       "Name: 0.9, dtype: float64"
      ]
     },
     "execution_count": 26,
     "metadata": {},
     "output_type": "execute_result"
    }
   ],
   "source": [
    "impresso_tr_clusters.quantile(.9)"
   ]
  },
  {
   "cell_type": "markdown",
   "metadata": {},
   "source": [
    "This distribution can also be plotted by using a bar plot:"
   ]
  },
  {
   "cell_type": "code",
   "execution_count": 27,
   "metadata": {},
   "outputs": [
    {
     "data": {
      "image/png": "[encoded data removed]",
      "text/plain": [
       "<Figure size 720x576 with 1 Axes>"
      ]
     },
     "metadata": {
      "needs_background": "light"
     },
     "output_type": "display_data"
    }
   ],
   "source": [
    "%matplotlib inline\n",
    "ax = impresso_tr_clusters.cluster_size.value_counts().plot(\n",
    "    kind='bar',\n",
    "    log=False,\n",
    "    grid=True,\n",
    "    figsize=(10, 8),\n",
    "    xlabel='Cluster size',\n",
    "    ylabel='Frequency',\n",
    "    title='Distribution of text reuse cluster sizes'\n",
    ")"
   ]
  },
  {
   "cell_type": "markdown",
   "metadata": {},
   "source": [
    "Since our distribution is very skewed (a lot of clusters with size 2, and much less of them for other sizes), some data points become invisible unless with use a logarithmic scale for the Y axis:"
   ]
  },
  {
   "cell_type": "code",
   "execution_count": 19,
   "metadata": {
    "scrolled": false
   },
   "outputs": [
    {
     "data": {
      "image/png": "[encoded data removed]",
      "text/plain": [
       "<Figure size 720x576 with 1 Axes>"
      ]
     },
     "metadata": {
      "needs_background": "light"
     },
     "output_type": "display_data"
    }
   ],
   "source": [
    "%matplotlib inline\n",
    "ax = impresso_tr_clusters.cluster_size.value_counts().plot(\n",
    "    kind='bar',\n",
    "    log=True,\n",
    "    grid=True,\n",
    "    figsize=(10, 8),\n",
    "    xlabel='Cluster size',\n",
    "    ylabel='Frequency',\n",
    "    title='Distribution of text reuse cluster sizes (plotted on a logarithmic scale)'\n",
    ")"
   ]
  },
  {
   "cell_type": "markdown",
   "metadata": {},
   "source": [
    "## Plotting the distribution of cluster sizes (bible)"
   ]
  },
  {
   "cell_type": "markdown",
   "metadata": {},
   "source": [
    "Now we can do the same for the EEBO data."
   ]
  },
  {
   "cell_type": "code",
   "execution_count": 35,
   "metadata": {},
   "outputs": [
    {
     "data": {
      "text/plain": [
       "2    251\n",
       "3      6\n",
       "Name: cluster_size, dtype: int64"
      ]
     },
     "execution_count": 35,
     "metadata": {},
     "output_type": "execute_result"
    }
   ],
   "source": [
    "bible_tr_clusters.cluster_size.value_counts()"
   ]
  },
  {
   "cell_type": "code",
   "execution_count": 36,
   "metadata": {},
   "outputs": [
    {
     "data": {
      "text/plain": [
       "count    257.000000\n",
       "mean       2.023346\n",
       "std        0.151295\n",
       "min        2.000000\n",
       "25%        2.000000\n",
       "50%        2.000000\n",
       "75%        2.000000\n",
       "max        3.000000\n",
       "Name: cluster_size, dtype: float64"
      ]
     },
     "execution_count": 36,
     "metadata": {},
     "output_type": "execute_result"
    }
   ],
   "source": [
    "bible_tr_clusters.cluster_size.describe()"
   ]
  },
  {
   "cell_type": "code",
   "execution_count": 38,
   "metadata": {},
   "outputs": [
    {
     "data": {
      "image/png": "[encoded data removed]",
      "text/plain": [
       "<Figure size 720x576 with 1 Axes>"
      ]
     },
     "metadata": {
      "needs_background": "light"
     },
     "output_type": "display_data"
    }
   ],
   "source": [
    "%matplotlib inline\n",
    "ax = bible_tr_clusters.cluster_size.value_counts().plot(\n",
    "    kind='bar',\n",
    "    log=False, # since the distribution is not skewed, we don't need the log scale\n",
    "    grid=True,\n",
    "    figsize=(10, 8),\n",
    "    xlabel='Cluster size',\n",
    "    ylabel='Frequency',\n",
    "    title='Distribution of text reuse cluster sizes'\n",
    ")"
   ]
  }
 ],
 "metadata": {
  "kernelspec": {
   "display_name": "Python 3",
   "language": "python",
   "name": "python3"
  },
  "language_info": {
   "codemirror_mode": {
    "name": "ipython",
    "version": 3
   },
   "file_extension": ".py",
   "mimetype": "text/x-python",
   "name": "python",
   "nbconvert_exporter": "python",
   "pygments_lexer": "ipython3",
   "version": "3.8.2"
  },
  "toc": {
   "base_numbering": 1,
   "nav_menu": {},
   "number_sections": true,
   "sideBar": true,
   "skip_h1_title": false,
   "title_cell": "Table of Contents",
   "title_sidebar": "Contents",
   "toc_cell": false,
   "toc_position": {
    "height": "calc(100% - 180px)",
    "left": "10px",
    "top": "150px",
    "width": "325px"
   },
   "toc_section_display": true,
   "toc_window_display": true
  }
 },
 "nbformat": 4,
 "nbformat_minor": 4
}
